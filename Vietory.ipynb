{
  "nbformat": 4,
  "nbformat_minor": 0,
  "metadata": {
    "colab": {
      "provenance": [],
      "authorship_tag": "ABX9TyMSq5Yaiw5szBAw1uCwlC2y",
      "include_colab_link": true
    },
    "kernelspec": {
      "name": "python3",
      "display_name": "Python 3"
    },
    "language_info": {
      "name": "python"
    }
  },
  "cells": [
    {
      "cell_type": "markdown",
      "metadata": {
        "id": "view-in-github",
        "colab_type": "text"
      },
      "source": [
        "<a href=\"https://colab.research.google.com/github/Marcosias0400/Topologia_Algoritmica/blob/main/Vietory.ipynb\" target=\"_parent\"><img src=\"https://colab.research.google.com/assets/colab-badge.svg\" alt=\"Open In Colab\"/></a>"
      ]
    },
    {
      "cell_type": "code",
      "source": [
        "# Modulos importados, en este caso la distancia euclidiana\n",
        "from math import dist\n",
        "import numpy as np"
      ],
      "metadata": {
        "id": "akVdFZL6jGLs"
      },
      "execution_count": 29,
      "outputs": []
    },
    {
      "cell_type": "code",
      "execution_count": 30,
      "metadata": {
        "id": "Mi3ZpBa0ctLT"
      },
      "outputs": [],
      "source": [
        "# Funcion necesaria para sacar todas las combinaciones de puntos\n",
        "def potencia(c):\n",
        "    #Calcula y devuelve el conjunto potencia del  conjunto c.\n",
        "    if len(c) == 0:\n",
        "        return [[]]\n",
        "    r = potencia(c[:-1])\n",
        "    return r + [s + [c[-1]] for s in r]\n",
        "def imprime_ordenado(c):\n",
        "    \"\"\"Imprime en la salida estándar todos los\n",
        "       subconjuntos del conjunto c (una lista de\n",
        "       listas) ordenados primero por tamaño y\n",
        "       luego lexicográficamente. Cada subconjunto\n",
        "       se imprime en su propia línea. Los\n",
        "       elementos de los subconjuntos deben ser\n",
        "       comparables entre sí, de otra forma puede\n",
        "       ocurrir un TypeError.\n",
        "    \"\"\"\n",
        "    for e in sorted(c, key=lambda s: (len(s), s)):\n",
        "        print(e)"
      ]
    },
    {
      "cell_type": "code",
      "source": [
        "# Cercania de los puntos\n",
        "def puntos_cercania(x:tuple,l:list, r:float)->bool:\n",
        "    # Calcula la cercania entre n putnos de una lista l y un punto de referencia x\n",
        "    pase=True\n",
        "    for i in l:\n",
        "      if dist(i,x)<r:\n",
        "        pase=True\n",
        "      else:\n",
        "        # Si hay alguno que no este cerca, entonces rompe el bucle\n",
        "        pase=False\n",
        "        break\n",
        "    return pase"
      ],
      "metadata": {
        "id": "a_iDQhEOjYKq"
      },
      "execution_count": 31,
      "outputs": []
    },
    {
      "cell_type": "code",
      "source": [
        "# Contruye el complejo simplicial vietori Rips con una lista A de puntos y un epsilon\n",
        "def construir(A:list,epsilon:float)->dict:\n",
        "    # Conjunto de indices\n",
        "    N_puntos=len(A)\n",
        "    k=[u for u in range(N_puntos)]\n",
        "    # Sacar todas las listas de n en k elementos\n",
        "    pot=potencia(k)\n",
        "    # Quitamos el conjunto vacio\n",
        "    pot.pop(0)\n",
        "    lista=[]\n",
        "    # Sacamos las posibles combianciones de puntos de N_puntos\n",
        "    for x in pot:\n",
        "      lista1=[]\n",
        "      for y in x:\n",
        "        lista1.append(A[y])\n",
        "        lista.append(lista1)\n",
        "    # Epsilon de referencia\n",
        "    e=epsilon\n",
        "    Aux=[]\n",
        "    # SAcamos las caras del complejo simplicial de vietori rips\n",
        "    for z in lista:\n",
        "      for a in A:\n",
        "        if puntos_cercania(a,z,e):\n",
        "          Aux.append(z)\n",
        "    CompS=[]\n",
        "    # Descartamos elementos repetidos\n",
        "    for elem in Aux:\n",
        "      if elem not in CompS:\n",
        "        CompS.append(elem)\n",
        "    # SAcamos una lista de la maximo orden de los simplices de los complejos simpliciales\n",
        "    dimension=[]\n",
        "    for b in CompS:\n",
        "      dimension.append(len(b)-1)\n",
        "    orden=[]\n",
        "    # DEscartamos los elementos repetidos\n",
        "    for dim in dimension:\n",
        "      if dim not in orden:\n",
        "        orden.append(dim)\n",
        "    # El diccionario es el complejo simplicial con llave orden\n",
        "    #   y valor son las caras del complejo\n",
        "    complejo_simplicial=dict()\n",
        "    for llave in orden:\n",
        "    # Se inicializa primero el diccionario\n",
        "      complejo_simplicial[llave]=[]\n",
        "    for llave in orden:\n",
        "      for simplice in CompS:\n",
        "        # Se llena con respecto al orden\n",
        "        if llave==len(simplice)-1:\n",
        "          complejo_simplicial[llave].append(simplice)\n",
        "    return complejo_simplicial"
      ],
      "metadata": {
        "id": "IlBBexvZmYXD"
      },
      "execution_count": 32,
      "outputs": []
    },
    {
      "cell_type": "code",
      "source": [
        "class Vietori:\n",
        "  def __init__(self,A:list,epsilon:float):\n",
        "    self.N_vertices:int=len(A)\n",
        "    self.distancia:float=epsilon\n",
        "    self.SComplex:dict=construir(A,self.distancia)\n",
        "  def imprimir(self):\n",
        "    for u,v in self.SComplex.items():\n",
        "      print(f'Orden: {u} -> Caras: {v}')\n",
        "      print('Catidad de caras', len(v))"
      ],
      "metadata": {
        "id": "YwL6cGKTjk8J"
      },
      "execution_count": 33,
      "outputs": []
    },
    {
      "cell_type": "code",
      "source": [
        "def invert_permutation(p):\n",
        "    \"\"\"\n",
        "    Devuelve un arreglo 's' tal que np.array_equal(arr[p][s], arr) sea verdadero.\n",
        "    El argumento 'p' debe ser una permutación de 0, 1, ..., len(p)-1.\n",
        "    \"\"\"\n",
        "    p = np.asanyarray(p)\n",
        "    s = np.empty_like(p)\n",
        "    s[p] = np.arange(p.size)\n",
        "    return s"
      ],
      "metadata": {
        "id": "0GmmRmT7bAcs"
      },
      "execution_count": 34,
      "outputs": []
    },
    {
      "cell_type": "code",
      "source": [
        "def frontera(U:Vietori,n:int)->list:\n",
        "  # Operador frontera\n",
        "  U_n=U.SComplex[n]\n",
        "  U_nm1=U.SComplex[n-1]\n",
        "  l=dict()\n",
        "  for i in range(len(U_n)):\n",
        "    j=0\n",
        "    while j < len(U_nm1):\n",
        "      if all(elem in tuple(U_n[i]) for elem in tuple(U_nm1[j])):\n",
        "        l[tuple(U_n[i])]='+'+str(tuple(U_nm1[j]))\n",
        "      j=j+1\n",
        "  return l"
      ],
      "metadata": {
        "id": "F09XhqrJn5DH"
      },
      "execution_count": 72,
      "outputs": []
    },
    {
      "cell_type": "code",
      "source": [
        "def smith(U:Vietori, n)->list:\n",
        "  # Matriz asociadada al operador frontera\n",
        "  pass"
      ],
      "metadata": {
        "id": "yx2u7dAAoMf2"
      },
      "execution_count": null,
      "outputs": []
    },
    {
      "cell_type": "code",
      "source": [
        "class Homologia:\n",
        "  # Despliega los complejos de cadena y los numeros de beti\n",
        "  def __init__(self,U:Vietori,n:int):\n",
        "    self.CC=list()\n",
        "    self.Betti=list()"
      ],
      "metadata": {
        "id": "DfZPtVBrogDu"
      },
      "execution_count": null,
      "outputs": []
    },
    {
      "cell_type": "code",
      "source": [
        "# Lista de puntos de prueba\n",
        "A=[(0,0),(0,0.9),(-0.9,0.5),(0.01,0.1),(1,1),(1.2,0.5),(0.3,-0.8),(3,3),(-0.01,0.1)]\n",
        "U=Vietori(A,0.5)\n",
        "U.imprimir()"
      ],
      "metadata": {
        "colab": {
          "base_uri": "https://localhost:8080/"
        },
        "id": "J5TAUVjfjeoi",
        "outputId": "84c19335-1c91-41a3-e57d-205323aba5bb"
      },
      "execution_count": 38,
      "outputs": [
        {
          "output_type": "stream",
          "name": "stdout",
          "text": [
            "Orden: 0 -> Caras: [[(0, 0)], [(0, 0.9)], [(-0.9, 0.5)], [(0.01, 0.1)], [(1, 1)], [(1.2, 0.5)], [(0.3, -0.8)], [(3, 3)], [(-0.01, 0.1)]]\n",
            "Catidad de caras 9\n",
            "Orden: 1 -> Caras: [[(0, 0), (0.01, 0.1)], [(0, 0), (-0.01, 0.1)], [(0.01, 0.1), (-0.01, 0.1)]]\n",
            "Catidad de caras 3\n",
            "Orden: 2 -> Caras: [[(0, 0), (0.01, 0.1), (-0.01, 0.1)]]\n",
            "Catidad de caras 1\n"
          ]
        }
      ]
    }
  ]
}